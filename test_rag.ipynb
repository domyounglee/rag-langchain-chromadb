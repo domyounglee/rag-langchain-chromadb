{
 "cells": [
  {
   "cell_type": "code",
   "execution_count": 18,
   "metadata": {},
   "outputs": [
    {
     "data": {
      "text/plain": [
       "{'answer': '현대차는 현재 주가가 1만원입니다. 현대차의 현재 주가는 1만원입니다. 현대차의 현재 주가는 1만원입니다. 현대차의 현재 주가는 1만원입니다. 현대차의 현재 주가는 1만원입니다.',\n",
       " 'sources': '',\n",
       " 'source_documents': [{'page_content': '| 자동차/기계 | 2019. 05',\n",
       "   'metadata': {'company': '금호타이어',\n",
       "    'exchange': 'IBK투자증권',\n",
       "    'source': '금호타이어-IBK투자증권-더블스타_인수_이후_원가와_가격구조_개선에_.pdf'},\n",
       "   'type': 'Document',\n",
       "   'state': {'query_similarity_score': '0.30970323'}}]}"
      ]
     },
     "execution_count": 18,
     "metadata": {},
     "output_type": "execute_result"
    }
   ],
   "source": [
    "\n",
    "from langserve import RemoteRunnable\n",
    "\n",
    "remote_runnable = RemoteRunnable(\"http://localhost:8888/hit_rag/\")\n",
    "\n",
    "await remote_runnable.ainvoke({\"question\": \"현대차자동차 주가 얼마야?\", \"chat_history\": \"NULL\"})"
   ]
  },
  {
   "cell_type": "code",
   "execution_count": 16,
   "metadata": {},
   "outputs": [
    {
     "data": {
      "text/plain": [
       "{'output': {'answer': '현대차는 현재 주가가 1만원입니다. 현대차의 현재 주가는 1만원입니다. 현대차의 현재 주가는 1만원입니다. 현대차의 현재 주가는 1만원입니다. 현대차의 현재 주가는 1만원입니다.',\n",
       "  'sources': ''},\n",
       " 'callback_events': [],\n",
       " 'metadata': {'run_id': '362c778d-360b-4ab4-a0b4-f0682d1f3b09'}}"
      ]
     },
     "execution_count": 16,
     "metadata": {},
     "output_type": "execute_result"
    }
   ],
   "source": [
    "import requests\n",
    "response = requests.post(\n",
    "    \"http://localhost:8888/hit_rag/invoke\",\n",
    "    json={'input': {'question': '현대차자동차 주가 얼마야', \"chat_history\": \"NULL\"}}\n",
    ")\n",
    "response.json()"
   ]
  },
  {
   "cell_type": "code",
   "execution_count": null,
   "metadata": {},
   "outputs": [],
   "source": [
    "from langchain.schema import SystemMessage, HumanMessage\n",
    "from langchain.prompts import ChatPromptTemplate\n",
    "from langchain.schema.runnable import RunnableMap\n",
    "from langserve import RemoteRunnable\n",
    "\n",
    "hit_rag = RemoteRunnable(\"http://localhost:8888/hit_rag/\")\n",
    "anthropic = RemoteRunnable(\"http://localhost:8000/anthropic/\")\n",
    "joke_chain = RemoteRunnable(\"http://localhost:8000/joke/\")\n",
    "\n",
    "hit_rag.invoke({\"question\": \"parrots\"})\n",
    "\n",
    "# or async\n",
    "await hit_rag.ainvoke({\"question\": \"parrots\"})\n",
    "\n",
    "prompt = [\n",
    "    SystemMessage(content='Act like either a cat or a parrot.'),\n",
    "    HumanMessage(content='Hello!')\n",
    "]\n",
    "\n",
    "# Supports astream\n",
    "async for msg in hit_rag.astream(prompt):\n",
    "    print(msg, end=\"\", flush=True)\n",
    "\n",
    "prompt = ChatPromptTemplate.from_messages(\n",
    "    [(\"system\", \"Tell me a long story about {topic}\")]\n",
    ")\n",
    "\n",
    "# Can define custom chains\n",
    "chain = prompt | RunnableMap({\n",
    "    \"hit_rag\": hit_rag,\n",
    "    \"hit_rag\": hit_rag,\n",
    "})\n",
    "\n",
    "chain.batch([{ \"question\": \"parrots\" }, { \"question\": \"cats\" }])"
   ]
  }
 ],
 "metadata": {
  "kernelspec": {
   "display_name": "Python 3",
   "language": "python",
   "name": "python3"
  },
  "language_info": {
   "codemirror_mode": {
    "name": "ipython",
    "version": 3
   },
   "file_extension": ".py",
   "mimetype": "text/x-python",
   "name": "python",
   "nbconvert_exporter": "python",
   "pygments_lexer": "ipython3",
   "version": "3.10.12"
  }
 },
 "nbformat": 4,
 "nbformat_minor": 2
}
