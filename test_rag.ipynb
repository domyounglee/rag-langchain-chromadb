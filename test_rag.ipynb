{
 "cells": [
  {
   "cell_type": "markdown",
   "metadata": {},
   "source": [
    "## python SDK\n"
   ]
  },
  {
   "cell_type": "code",
   "execution_count": 12,
   "metadata": {},
   "outputs": [
    {
     "data": {
      "text/plain": [
       "{'documents': ['3%\\nStock Price\\n– 기아차 - - KOSPI\\n3,000\\n50,000\\n40,000\\n2,500\\n2,000\\n30,000\\n1,500\\n20,000\\n1,000\\n10,000\\n500\\n0\\n18/01\\n18/07 19/01 19/07\\n0 20/01\\n2020년 1월 23일\\n기아차\\n(000270)\\n4Q19 Review: 신차효과의 초입 국면에 불과\\n4Q19 Review: 영업이익 5,905억원(YOY +54%), 기대치 상회\\n기아차의 4Q19 실적이 발표되었다',\n",
       "  '3%\\nStock Price\\n기아차 - KOSPI\\n50,000\\n3,000\\n40,000\\n2,500\\n2,000\\n30,000\\n1,500\\n20,000\\n1,000\\n10,000\\n500\\n0\\n17/12\\n18/06\\n18/12\\n19/06\\n0\\n19/12\\n모멘텀으로 가득찬 2020년, 상승은 지속된다\\n자동차 섹터 Top Pick: 뚜렷한 어닝 모멘텀\\n기아차에 대해 기존 Top Pick 의견을 유지하며, 2019년에 이어 이익 모멘텀이 2020~2021년까지 확장될 것으로 예상한다'],\n",
       " 'metadata': [{'company': '기아차',\n",
       "   'exchange': '이베스트증권',\n",
       "   'source': '기아차-이베스트증권-신차효과의_초입_국면에_불과.pdf'},\n",
       "  {'company': '기아차',\n",
       "   'exchange': '이베스트증권',\n",
       "   'source': '기아차-이베스트증권-모멘텀으로_가득찬_2020년_상승은_지속된다.pdf'}],\n",
       " 'similarity_score': ['0.6764658', '0.67284256'],\n",
       " 'answer': ' 1. 현대차그룹과 비교해보면, 기아차가 더 매력적인 이유 2. 기아차의 목표주가를 어떻게 설정해야 하나? 도움 안 되는 답변: 1. 기아차의 목표주가를 어떻게 설정해야 하나? 2. 기아차'}"
      ]
     },
     "execution_count": 12,
     "metadata": {},
     "output_type": "execute_result"
    }
   ],
   "source": [
    "\n",
    "from langserve import RemoteRunnable\n",
    "\n",
    "\n",
    "remote_runnable = RemoteRunnable(\"http://localhost:8888/hit_rag/\")\n",
    "\n",
    "await remote_runnable.ainvoke(\"기아차 주가 얼마야\")"
   ]
  },
  {
   "cell_type": "code",
   "execution_count": null,
   "metadata": {},
   "outputs": [],
   "source": []
  },
  {
   "cell_type": "markdown",
   "metadata": {},
   "source": [
    "## raw request"
   ]
  },
  {
   "cell_type": "code",
   "execution_count": 7,
   "metadata": {},
   "outputs": [
    {
     "data": {
      "text/plain": [
       "{'output': {'documents': ['3%\\nStock Price\\n– 기아차 - - KOSPI\\n3,000\\n50,000\\n40,000\\n2,500\\n2,000\\n30,000\\n1,500\\n20,000\\n1,000\\n10,000\\n500\\n0\\n18/01\\n18/07 19/01 19/07\\n0 20/01\\n2020년 1월 23일\\n기아차\\n(000270)\\n4Q19 Review: 신차효과의 초입 국면에 불과\\n4Q19 Review: 영업이익 5,905억원(YOY +54%), 기대치 상회\\n기아차의 4Q19 실적이 발표되었다',\n",
       "   '3%\\nStock Price\\n기아차 - KOSPI\\n50,000\\n3,000\\n40,000\\n2,500\\n2,000\\n30,000\\n1,500\\n20,000\\n1,000\\n10,000\\n500\\n0\\n17/12\\n18/06\\n18/12\\n19/06\\n0\\n19/12\\n모멘텀으로 가득찬 2020년, 상승은 지속된다\\n자동차 섹터 Top Pick: 뚜렷한 어닝 모멘텀\\n기아차에 대해 기존 Top Pick 의견을 유지하며, 2019년에 이어 이익 모멘텀이 2020~2021년까지 확장될 것으로 예상한다'],\n",
       "  'metadata': [{'company': '기아차',\n",
       "    'exchange': '이베스트증권',\n",
       "    'source': '기아차-이베스트증권-신차효과의_초입_국면에_불과.pdf'},\n",
       "   {'company': '기아차',\n",
       "    'exchange': '이베스트증권',\n",
       "    'source': '기아차-이베스트증권-모멘텀으로_가득찬_2020년_상승은_지속된다.pdf'}],\n",
       "  'similarity_score': ['0.6764658', '0.67284256'],\n",
       "  'answer': ' 1. 현대차그룹과 비교해보면, 기아차가 더 매력적인 이유 2. 기아차의 목표주가를 어떻게 설정해야 하나? 도움 안 되는 답변: 1. 기아차의 목표주가를 어떻게 설정해야 하나? 2. 기아차'},\n",
       " 'callback_events': [],\n",
       " 'metadata': {'run_id': '7f03f27c-dae1-4364-86ba-3693c616ff6d'}}"
      ]
     },
     "execution_count": 7,
     "metadata": {},
     "output_type": "execute_result"
    }
   ],
   "source": [
    "import requests\n",
    "response = requests.post(\n",
    "    \"http://localhost:8888/hit_rag/invoke\",\n",
    "    json={\"input\":\"기아차 주가 얼마야\",\"config\":{}}\n",
    ")\n",
    "response.json()"
   ]
  },
  {
   "cell_type": "code",
   "execution_count": 14,
   "metadata": {},
   "outputs": [
    {
     "data": {
      "text/plain": [
       "[{'hit': {'documents': ['3%\\nStock Price\\n– 기아차 - - KOSPI\\n3,000\\n50,000\\n40,000\\n2,500\\n2,000\\n30,000\\n1,500\\n20,000\\n1,000\\n10,000\\n500\\n0\\n18/01\\n18/07 19/01 19/07\\n0 20/01\\n2020년 1월 23일\\n기아차\\n(000270)\\n4Q19 Review: 신차효과의 초입 국면에 불과\\n4Q19 Review: 영업이익 5,905억원(YOY +54%), 기대치 상회\\n기아차의 4Q19 실적이 발표되었다',\n",
       "    '3%\\nStock Price\\n기아차 - KOSPI\\n50,000\\n3,000\\n40,000\\n2,500\\n2,000\\n30,000\\n1,500\\n20,000\\n1,000\\n10,000\\n500\\n0\\n17/12\\n18/06\\n18/12\\n19/06\\n0\\n19/12\\n모멘텀으로 가득찬 2020년, 상승은 지속된다\\n자동차 섹터 Top Pick: 뚜렷한 어닝 모멘텀\\n기아차에 대해 기존 Top Pick 의견을 유지하며, 2019년에 이어 이익 모멘텀이 2020~2021년까지 확장될 것으로 예상한다'],\n",
       "   'metadata': [{'company': '기아차',\n",
       "     'exchange': '이베스트증권',\n",
       "     'source': '기아차-이베스트증권-신차효과의_초입_국면에_불과.pdf'},\n",
       "    {'company': '기아차',\n",
       "     'exchange': '이베스트증권',\n",
       "     'source': '기아차-이베스트증권-모멘텀으로_가득찬_2020년_상승은_지속된다.pdf'}],\n",
       "   'similarity_score': ['0.6764658', '0.67284256'],\n",
       "   'answer': ' 1. 현대차그룹과 비교해보면, 기아차가 더 매력적인 이유 2. 기아차의 목표주가를 어떻게 설정해야 하나? 도움 안 되는 답변: 1. 기아차의 목표주가를 어떻게 설정해야 하나? 2. 기아차'}},\n",
       " {'hit': {'documents': ['3%\\nStock Price\\n– 기아차 - - KOSPI\\n3,000\\n50,000\\n40,000\\n2,500\\n2,000\\n30,000\\n1,500\\n20,000\\n1,000\\n10,000\\n500\\n0\\n18/01\\n18/07 19/01 19/07\\n0 20/01\\n2020년 1월 23일\\n기아차\\n(000270)\\n4Q19 Review: 신차효과의 초입 국면에 불과\\n4Q19 Review: 영업이익 5,905억원(YOY +54%), 기대치 상회\\n기아차의 4Q19 실적이 발표되었다',\n",
       "    '3%\\nStock Price\\n기아차 - KOSPI\\n50,000\\n3,000\\n40,000\\n2,500\\n2,000\\n30,000\\n1,500\\n20,000\\n1,000\\n10,000\\n500\\n0\\n17/12\\n18/06\\n18/12\\n19/06\\n0\\n19/12\\n모멘텀으로 가득찬 2020년, 상승은 지속된다\\n자동차 섹터 Top Pick: 뚜렷한 어닝 모멘텀\\n기아차에 대해 기존 Top Pick 의견을 유지하며, 2019년에 이어 이익 모멘텀이 2020~2021년까지 확장될 것으로 예상한다'],\n",
       "   'metadata': [{'company': '기아차',\n",
       "     'exchange': '이베스트증권',\n",
       "     'source': '기아차-이베스트증권-신차효과의_초입_국면에_불과.pdf'},\n",
       "    {'company': '기아차',\n",
       "     'exchange': '이베스트증권',\n",
       "     'source': '기아차-이베스트증권-모멘텀으로_가득찬_2020년_상승은_지속된다.pdf'}],\n",
       "   'similarity_score': ['0.6764658', '0.67284256'],\n",
       "   'answer': ' 1. 현대차그룹과 비교해보면, 기아차가 더 매력적인 이유 2. 기아차의 목표주가를 어떻게 설정해야 하나? 도움 안 되는 답변: 1. 기아차의 목표주가를 어떻게 설정해야 하나? 2. 기아차'}}]"
      ]
     },
     "execution_count": 14,
     "metadata": {},
     "output_type": "execute_result"
    }
   ],
   "source": [
    "from langchain.schema import SystemMessage, HumanMessage\n",
    "from langchain.prompts import ChatPromptTemplate\n",
    "from langchain.schema.runnable import RunnableMap\n",
    "from langserve import RemoteRunnable\n",
    "\n",
    "hit_rag = RemoteRunnable(\"http://localhost:8888/hit_rag/\")\n",
    "\n",
    "hit_rag.invoke(\"기아차 주가 얼마야\")\n",
    "\n",
    "# or async\n",
    "await hit_rag.ainvoke(\"기아차 주가 얼마야\")\n",
    "\n",
    "\n",
    "# Supports astream\n",
    "#async for msg in hit_rag.astream(prompt):\n",
    "#   print(msg, end=\"\", flush=True)\n",
    "\n",
    "\n",
    "# Can define custom chains\n",
    "chain =RunnableMap({\n",
    "    \"hit\": hit_rag,\n",
    "    \"hit\": hit_rag,\n",
    "})\n",
    "\n",
    "chain.batch([\"기아차 주가 얼마야\", \"기아차 주가 얼마야\"])"
   ]
  },
  {
   "cell_type": "code",
   "execution_count": 15,
   "metadata": {},
   "outputs": [
    {
     "name": "stdout",
     "output_type": "stream",
     "text": [
      "{'metadata': [{'company': '기아차', 'exchange': '이베스트증권', 'source': '기아차-이베스트증권-신차효과의_초입_국면에_불과.pdf'}, {'company': '기아차', 'exchange': '이베스트증권', 'source': '기아차-이베스트증권-모멘텀으로_가득찬_2020년_상승은_지속된다.pdf'}]}{'documents': ['3%\\nStock Price\\n– 기아차 - - KOSPI\\n3,000\\n50,000\\n40,000\\n2,500\\n2,000\\n30,000\\n1,500\\n20,000\\n1,000\\n10,000\\n500\\n0\\n18/01\\n18/07 19/01 19/07\\n0 20/01\\n2020년 1월 23일\\n기아차\\n(000270)\\n4Q19 Review: 신차효과의 초입 국면에 불과\\n4Q19 Review: 영업이익 5,905억원(YOY +54%), 기대치 상회\\n기아차의 4Q19 실적이 발표되었다', '3%\\nStock Price\\n기아차 - KOSPI\\n50,000\\n3,000\\n40,000\\n2,500\\n2,000\\n30,000\\n1,500\\n20,000\\n1,000\\n10,000\\n500\\n0\\n17/12\\n18/06\\n18/12\\n19/06\\n0\\n19/12\\n모멘텀으로 가득찬 2020년, 상승은 지속된다\\n자동차 섹터 Top Pick: 뚜렷한 어닝 모멘텀\\n기아차에 대해 기존 Top Pick 의견을 유지하며, 2019년에 이어 이익 모멘텀이 2020~2021년까지 확장될 것으로 예상한다']}{'similarity_score': ['0.6764658', '0.67284256']}{'answer': ' 1. 현대차그룹과 비교해보면, 기아차가 더 매력적인 이유 2. 기아차의 목표주가를 어떻게 설정해야 하나? 도움 안 되는 답변: 1. 기아차의 목표주가를 어떻게 설정해야 하나? 2. 기아차'}"
     ]
    }
   ],
   "source": [
    "# Supports astream\n",
    "async for msg in hit_rag.astream(\"기아차 주가 얼마야\"):\n",
    "   print(msg, end=\"\", flush=True)\n",
    "\n"
   ]
  }
 ],
 "metadata": {
  "kernelspec": {
   "display_name": "Python 3",
   "language": "python",
   "name": "python3"
  },
  "language_info": {
   "codemirror_mode": {
    "name": "ipython",
    "version": 3
   },
   "file_extension": ".py",
   "mimetype": "text/x-python",
   "name": "python",
   "nbconvert_exporter": "python",
   "pygments_lexer": "ipython3",
   "version": "3.10.12"
  }
 },
 "nbformat": 4,
 "nbformat_minor": 2
}
